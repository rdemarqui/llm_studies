{
  "nbformat": 4,
  "nbformat_minor": 0,
  "metadata": {
    "colab": {
      "provenance": [],
      "authorship_tag": "ABX9TyN91HwcQYLMspw3LwIrNudR",
      "include_colab_link": true
    },
    "kernelspec": {
      "name": "python3",
      "display_name": "Python 3"
    },
    "language_info": {
      "name": "python"
    }
  },
  "cells": [
    {
      "cell_type": "markdown",
      "metadata": {
        "id": "view-in-github",
        "colab_type": "text"
      },
      "source": [
        "<a href=\"https://colab.research.google.com/github/rdemarqui/llm_studies/blob/main/Understanding_Transformers.ipynb\" target=\"_parent\"><img src=\"https://colab.research.google.com/assets/colab-badge.svg\" alt=\"Open In Colab\"/></a>"
      ]
    },
    {
      "cell_type": "code",
      "source": [
        "!pip install transformers, accelerate, bitsandbytes"
      ],
      "metadata": {
        "id": "ewlZAAc-7eDE"
      },
      "execution_count": null,
      "outputs": []
    },
    {
      "cell_type": "code",
      "execution_count": null,
      "metadata": {
        "id": "NIJ98oga7XL9"
      },
      "outputs": [],
      "source": [
        "from transformers import AutoModelForCausalLM, AutoTokenizer\n",
        "\n",
        "OPT = AutoModelForCausalLM.from_pretrained(\"facebook/opt-1.3b\")#, load_in_8bit=True)\n",
        "tokenizer = AutoTokenizer.from_pretrained(\"facebook/opt-1.3b\")"
      ]
    },
    {
      "cell_type": "code",
      "source": [
        "inp = \"The quick brown fox jumps over the lazy dog\"\n",
        "inp_tokenized = tokenizer(inp, return_tensors=\"pt\")\n",
        "print(inp_tokenized['input_ids'].size())\n",
        "print(inp_tokenized)"
      ],
      "metadata": {
        "colab": {
          "base_uri": "https://localhost:8080/"
        },
        "id": "Pk0oLFfI8-Gs",
        "outputId": "a275f0b6-471f-4bbd-cf92-d78e73135fac"
      },
      "execution_count": 9,
      "outputs": [
        {
          "output_type": "stream",
          "name": "stdout",
          "text": [
            "torch.Size([1, 10])\n",
            "{'input_ids': tensor([[    2,   133,  2119,  6219, 23602, 13855,    81,     5, 22414,  2335]]), 'attention_mask': tensor([[1, 1, 1, 1, 1, 1, 1, 1, 1, 1]])}\n"
          ]
        }
      ]
    },
    {
      "cell_type": "code",
      "source": [
        "print(OPT.model)"
      ],
      "metadata": {
        "colab": {
          "base_uri": "https://localhost:8080/"
        },
        "id": "-IC3vXsQ9T7j",
        "outputId": "7e9dd16a-e411-45f8-8113-d167f03d95e9"
      },
      "execution_count": 4,
      "outputs": [
        {
          "output_type": "stream",
          "name": "stdout",
          "text": [
            "OPTModel(\n",
            "  (decoder): OPTDecoder(\n",
            "    (embed_tokens): Embedding(50272, 2048, padding_idx=1)\n",
            "    (embed_positions): OPTLearnedPositionalEmbedding(2050, 2048)\n",
            "    (final_layer_norm): LayerNorm((2048,), eps=1e-05, elementwise_affine=True)\n",
            "    (layers): ModuleList(\n",
            "      (0-23): 24 x OPTDecoderLayer(\n",
            "        (self_attn): OPTAttention(\n",
            "          (k_proj): Linear(in_features=2048, out_features=2048, bias=True)\n",
            "          (v_proj): Linear(in_features=2048, out_features=2048, bias=True)\n",
            "          (q_proj): Linear(in_features=2048, out_features=2048, bias=True)\n",
            "          (out_proj): Linear(in_features=2048, out_features=2048, bias=True)\n",
            "        )\n",
            "        (activation_fn): ReLU()\n",
            "        (self_attn_layer_norm): LayerNorm((2048,), eps=1e-05, elementwise_affine=True)\n",
            "        (fc1): Linear(in_features=2048, out_features=8192, bias=True)\n",
            "        (fc2): Linear(in_features=8192, out_features=2048, bias=True)\n",
            "        (final_layer_norm): LayerNorm((2048,), eps=1e-05, elementwise_affine=True)\n",
            "      )\n",
            "    )\n",
            "  )\n",
            ")\n"
          ]
        }
      ]
    },
    {
      "cell_type": "code",
      "source": [
        "embedded_input = OPT.model.decoder.embed_tokens(inp_tokenized['input_ids'])\n",
        "print(\"Layer:\\t\", OPT.model.decoder.embed_tokens)\n",
        "print(\"Size:\\t\", embedded_input.size())\n",
        "print(\"Output:\\t\", embedded_input)"
      ],
      "metadata": {
        "colab": {
          "base_uri": "https://localhost:8080/"
        },
        "id": "dhgoRJh49zE9",
        "outputId": "ff2413d0-ebf8-4e31-8843-2f4727b646b9"
      },
      "execution_count": 10,
      "outputs": [
        {
          "output_type": "stream",
          "name": "stdout",
          "text": [
            "Layer:\t Embedding(50272, 2048, padding_idx=1)\n",
            "Size:\t torch.Size([1, 10, 2048])\n",
            "Output:\t tensor([[[-0.0407,  0.0519,  0.0574,  ..., -0.0263, -0.0355, -0.0260],\n",
            "         [-0.0371,  0.0220, -0.0096,  ...,  0.0265, -0.0166, -0.0030],\n",
            "         [-0.0455, -0.0236, -0.0121,  ...,  0.0043, -0.0166,  0.0193],\n",
            "         ...,\n",
            "         [ 0.0007,  0.0267,  0.0257,  ...,  0.0622,  0.0421,  0.0279],\n",
            "         [-0.0126,  0.0347, -0.0352,  ..., -0.0393, -0.0396, -0.0102],\n",
            "         [-0.0115,  0.0319,  0.0274,  ..., -0.0472, -0.0059,  0.0341]]],\n",
            "       grad_fn=<EmbeddingBackward0>)\n"
          ]
        }
      ]
    },
    {
      "cell_type": "code",
      "source": [
        "embed_pos_input = OPT.model.decoder.embed_positions(inp_tokenized['attention_mask'])\n",
        "print(\"Layer:\\t\", OPT.model.decoder.embed_positions)\n",
        "print(\"Size:\\t\", embed_pos_input.size())\n",
        "print(\"Output:\\t\", embed_pos_input)"
      ],
      "metadata": {
        "colab": {
          "base_uri": "https://localhost:8080/"
        },
        "id": "QAJ3iAGnBeWu",
        "outputId": "0d096f6b-2e52-42ce-bee3-3553147b9eb3"
      },
      "execution_count": 11,
      "outputs": [
        {
          "output_type": "stream",
          "name": "stdout",
          "text": [
            "Layer:\t OPTLearnedPositionalEmbedding(2050, 2048)\n",
            "Size:\t torch.Size([1, 10, 2048])\n",
            "Output:\t tensor([[[-8.1406e-03, -2.6221e-01,  6.0768e-03,  ...,  1.7273e-02,\n",
            "          -5.0621e-03, -1.6220e-02],\n",
            "         [-8.0585e-05,  2.5000e-01, -1.6632e-02,  ..., -1.5419e-02,\n",
            "          -1.7838e-02,  2.4948e-02],\n",
            "         [-9.9411e-03, -1.4978e-01,  1.7557e-03,  ...,  3.7117e-03,\n",
            "          -1.6434e-02, -9.9087e-04],\n",
            "         ...,\n",
            "         [ 3.6979e-04, -7.7454e-02,  1.2955e-02,  ...,  3.9330e-03,\n",
            "          -1.1642e-02,  7.8506e-03],\n",
            "         [-2.6779e-03, -2.2446e-02, -1.6754e-02,  ..., -1.3142e-03,\n",
            "          -7.8583e-03,  2.0096e-02],\n",
            "         [-8.6288e-03,  1.4233e-01, -1.9012e-02,  ..., -1.8463e-02,\n",
            "          -9.8572e-03,  8.7662e-03]]], grad_fn=<EmbeddingBackward0>)\n"
          ]
        }
      ]
    },
    {
      "cell_type": "code",
      "source": [
        "embed_position_input = embedded_input + embed_pos_input\n",
        "hidden_states, _, _ = OPT.model.decoder.layers[0].self_attn(embed_position_input)\n",
        "print(\"Layer:\\t\", OPT.model.decoder.layers[0].self_attn)\n",
        "print(\"Size:\\t\", hidden_states.size())\n",
        "print(\"Output:\\t\", hidden_states)"
      ],
      "metadata": {
        "colab": {
          "base_uri": "https://localhost:8080/"
        },
        "id": "hYv5HEp_BfH0",
        "outputId": "b8870fea-50d5-45f5-9686-4267a93423fa"
      },
      "execution_count": 12,
      "outputs": [
        {
          "output_type": "stream",
          "name": "stdout",
          "text": [
            "Layer:\t OPTAttention(\n",
            "  (k_proj): Linear(in_features=2048, out_features=2048, bias=True)\n",
            "  (v_proj): Linear(in_features=2048, out_features=2048, bias=True)\n",
            "  (q_proj): Linear(in_features=2048, out_features=2048, bias=True)\n",
            "  (out_proj): Linear(in_features=2048, out_features=2048, bias=True)\n",
            ")\n",
            "Size:\t torch.Size([1, 10, 2048])\n",
            "Output:\t tensor([[[-0.0118, -0.0109,  0.0055,  ...,  0.0095,  0.0013,  0.0091],\n",
            "         [-0.0118, -0.0109,  0.0055,  ...,  0.0095,  0.0013,  0.0092],\n",
            "         [-0.0118, -0.0109,  0.0055,  ...,  0.0095,  0.0013,  0.0091],\n",
            "         ...,\n",
            "         [-0.0118, -0.0109,  0.0055,  ...,  0.0095,  0.0013,  0.0091],\n",
            "         [-0.0118, -0.0109,  0.0055,  ...,  0.0095,  0.0013,  0.0092],\n",
            "         [-0.0118, -0.0109,  0.0055,  ...,  0.0095,  0.0013,  0.0091]]],\n",
            "       grad_fn=<ViewBackward0>)\n"
          ]
        }
      ]
    },
    {
      "cell_type": "code",
      "source": [],
      "metadata": {
        "id": "zCFBzgWLCWgE"
      },
      "execution_count": null,
      "outputs": []
    }
  ]
}