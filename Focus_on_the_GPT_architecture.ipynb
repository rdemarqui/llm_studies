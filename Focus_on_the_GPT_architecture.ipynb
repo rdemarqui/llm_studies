{
  "nbformat": 4,
  "nbformat_minor": 0,
  "metadata": {
    "colab": {
      "provenance": [],
      "authorship_tag": "ABX9TyOrpcuAmYYc/ZXel9h6tNSl",
      "include_colab_link": true
    },
    "kernelspec": {
      "name": "python3",
      "display_name": "Python 3"
    },
    "language_info": {
      "name": "python"
    }
  },
  "cells": [
    {
      "cell_type": "markdown",
      "metadata": {
        "id": "view-in-github",
        "colab_type": "text"
      },
      "source": [
        "<a href=\"https://colab.research.google.com/github/rdemarqui/llm_studies/blob/main/Focus_on_the_GPT_architecture.ipynb\" target=\"_parent\"><img src=\"https://colab.research.google.com/assets/colab-badge.svg\" alt=\"Open In Colab\"/></a>"
      ]
    },
    {
      "cell_type": "code",
      "source": [
        "import numpy as np"
      ],
      "metadata": {
        "id": "LIXokx5AnWLF"
      },
      "execution_count": null,
      "outputs": []
    },
    {
      "cell_type": "code",
      "execution_count": 1,
      "metadata": {
        "id": "xT43x-75nOeb"
      },
      "outputs": [],
      "source": [
        "def self_attention(query, key, value, mask=None):\n",
        "    # Compute attention scores\n",
        "    scores = np.dot(query, key.T)\n",
        "\n",
        "    if mask is not None:\n",
        "        # Apply mask by setting masked positions to a large negative value\n",
        "        scores = scores + mask * -1e9\n",
        "\n",
        "    # Apply softmax to obtain attention weights\n",
        "    attention_weights = np.exp(scores) / np.sum(np.exp(scores), axis=-1, keepdims=True)\n",
        "\n",
        "    # Compute weighted sum of value vectors\n",
        "    output = np.dot(attention_weights, value)\n",
        "\n",
        "    return output"
      ]
    }
  ]
}