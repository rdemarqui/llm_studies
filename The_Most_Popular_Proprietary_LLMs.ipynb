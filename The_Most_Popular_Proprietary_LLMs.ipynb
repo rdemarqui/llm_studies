{
  "nbformat": 4,
  "nbformat_minor": 0,
  "metadata": {
    "colab": {
      "provenance": [],
      "authorship_tag": "ABX9TyPH84YJKs9FEnaGlGMvsF3l",
      "include_colab_link": true
    },
    "kernelspec": {
      "name": "python3",
      "display_name": "Python 3"
    },
    "language_info": {
      "name": "python"
    }
  },
  "cells": [
    {
      "cell_type": "markdown",
      "metadata": {
        "id": "view-in-github",
        "colab_type": "text"
      },
      "source": [
        "<a href=\"https://colab.research.google.com/github/rdemarqui/llm_studies/blob/main/The_Most_Popular_Proprietary_LLMs.ipynb\" target=\"_parent\"><img src=\"https://colab.research.google.com/assets/colab-badge.svg\" alt=\"Open In Colab\"/></a>"
      ]
    },
    {
      "cell_type": "code",
      "execution_count": null,
      "metadata": {
        "id": "vj5BDOShYvPE"
      },
      "outputs": [],
      "source": [
        "!pip install cohere"
      ]
    },
    {
      "cell_type": "code",
      "source": [
        "COHERE_API_KEY = 'bN5l0DC4FBbsnR1t1w9wU0ZUhLgEMIEg45KY84ng'"
      ],
      "metadata": {
        "id": "zAFVl2hRZUOS"
      },
      "execution_count": 2,
      "outputs": []
    },
    {
      "cell_type": "code",
      "source": [
        "#from dotenv import load_dotenv\n",
        "#load_dotenv()\n",
        "import cohere\n",
        "import os\n",
        "\n",
        "#co = cohere.Client(os.environ[\"COHERE_API_KEY\"])\n",
        "co = cohere.Client(COHERE_API_KEY)\n",
        "\n",
        "response = co.generate(\n",
        "    prompt='Please briefly explain to me, in portuguese, how Deep Learning works using at most 100 words.',\n",
        "    max_tokens=200\n",
        ")\n",
        "print(response.generations[0].text)"
      ],
      "metadata": {
        "colab": {
          "base_uri": "https://localhost:8080/"
        },
        "id": "BOwS6mUxY5PR",
        "outputId": "9a5324b9-3e38-4035-a995-7dfc65ee7ec7"
      },
      "execution_count": 4,
      "outputs": [
        {
          "output_type": "stream",
          "name": "stdout",
          "text": [
            " Deep learning é uma técnica de aprendizado automático baseada em algoritmos artificiales que consegue aprender as melhores configurações de um determinado modelo de aprendizado usando máquinas em que opera. É o estado da arte no domínio de previsão de temperaturas, secas, entulho, objetos específicos e outras coisas. Sua capacidade de aprendizagem por deep learning é baseada em uma estrutura de neural rede. Cada neuron tem suas proprias leituras e transições. A cadeia lateral das neuronas representa uma cadeia de decisões. Isso simula as neuronas do cerebro humano.\n",
            "\n"
          ]
        }
      ]
    }
  ]
}